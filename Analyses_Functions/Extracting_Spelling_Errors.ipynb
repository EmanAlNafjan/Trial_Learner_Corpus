{
 "cells": [
  {
   "cell_type": "code",
   "execution_count": null,
   "metadata": {},
   "outputs": [],
   "source": [
    "import pandas as pd\n",
    "import numpy as np\n",
    "import pandas as pd\n",
    "import re\n",
    "from collections import Counter\n",
    "pd.set_option('display.max_columns', 500)\n",
    "data = pd.read_excel('anonymized_Learner_Corpus.xlsx')"
   ]
  },
  {
   "cell_type": "code",
   "execution_count": null,
   "metadata": {},
   "outputs": [],
   "source": [
    "import os\n",
    "\n",
    "def mistakes_data_analysis(file, text_columns, output_folder = 'analysis', output_filename = 'mistakes.csv'):\n",
    "    \"\"\"\"\n",
    "    # TODO: write proper summary of how to use this function\n",
    "    \"\"\"\n",
    "    data = pd.read_excel(file)\n",
    "\n",
    "    all_mistakes_list = []\n",
    "\n",
    "    for column in text_columns:\n",
    "        if column in data.columns:\n",
    "            for text_id, text in zip(data['Major'],  data[column].dropna()):\n",
    "                if not pd.isnull(text):\n",
    "\n",
    "                    corrected_text = re.sub(r\"<original=([^>']+)>\", r\"<original='\\1'>\", text)\n",
    "\n",
    "                    mistakes = re.findall(r\"<original='([^']+)'>([^<]+)</original>\", corrected_text)\n",
    "\n",
    "                    all_mistakes_list.extend([{'Major': text_id, \"Original\":mistake[0], 'Corrected':mistake[1] } for mistake in mistakes])\n",
    "\n",
    "    mistakes_data = pd.DataFrame(all_mistakes_list, columns=['Major', 'Original', 'Corrected'])\n",
    "\n",
    "    os.makedirs(output_folder, exist_ok=True)\n",
    "\n",
    "    output_path = os.path.join(output_folder, output_filename)\n",
    "    mistakes_data.to_csv(output_path, index=False, header=True)\n",
    "\n",
    "    return mistakes_data\n",
    "\n",
    "text_columns = [\n",
    "       'Practice Paragraph', 'Task 1.1.1', 'Task 1.1.2', 'Task 1.2.1',\n",
    "       'Task 1.2.2', 'Task 2.1.1', 'Task 2.1.2', 'Task 2.2.1', 'Task 2.2.2',\n",
    "       'Exam Term 2', 'Essay 3.1.1', 'Essay 3.1.2', 'Essay 3.2.1',\n",
    "       'Essay 3.2.2', 'Exam Term 3', 'Task 4.1', 'Task 4.2', 'Task 4.3',\n",
    "]\n",
    "\n",
    "\n",
    "# mistakes extraction\n",
    "\n",
    "mistakes_data_analysis('anonymized_Learner_Corpus.xlsx', text_columns)\n"
   ]
  }
 ],
 "metadata": {
  "language_info": {
   "name": "python"
  }
 },
 "nbformat": 4,
 "nbformat_minor": 2
}
